{
 "cells": [
  {
   "cell_type": "code",
   "execution_count": 12,
   "id": "0accf9d2-bc0f-41c2-80e9-dd6029538f31",
   "metadata": {},
   "outputs": [
    {
     "name": "stdout",
     "output_type": "stream",
     "text": [
      "✅ movies.csv file created successfully!\n"
     ]
    }
   ],
   "source": [
    "# Create movies.csv using Python inside the notebook\n",
    "data = \"\"\"title,genres,overview\n",
    "Avatar,Action Adventure Fantasy,\"A marine on an alien planet becomes torn between following his orders and protecting the world he feels is his home.\"\n",
    "Titanic,Drama Romance,\"A seventeen-year-old aristocrat falls in love with a kind but poor artist aboard the luxurious, ill-fated R.M.S. Titanic.\"\n",
    "The Avengers,Action Science Fiction,\"Earth's mightiest heroes must come together to stop a mischievous god from enslaving humanity.\"\n",
    "Interstellar,Adventure Drama Science Fiction,\"A team of explorers travel through a wormhole in space in an attempt to ensure humanity's survival.\"\n",
    "Inception,Action Adventure Science Fiction,\"A thief who steals corporate secrets through dream-sharing technology is given a chance to erase his criminal history.\"\n",
    "The Dark Knight,Action Crime Drama,\"Batman sets out to dismantle the remaining criminal organizations that plague the streets.\"\n",
    "The Notebook,Romance Drama,\"A poor yet passionate young man falls in love with a rich young woman and gives her a sense of freedom.\"\n",
    "Avengers: Age of Ultron,Action Adventure Science Fiction,\"When Tony Stark and Bruce Banner try to jump-start a dormant peacekeeping program, things go awry.\"\n",
    "The Martian,Adventure Drama Science Fiction,\"An astronaut becomes stranded on Mars and must rely on his ingenuity to survive.\"\n",
    "Gravity,Science Fiction Thriller,\"A medical engineer and an astronaut work together to survive after an accident leaves them adrift in space.\"\n",
    "\"\"\"\n",
    "\n",
    "# Write to file\n",
    "with open(\"movies.csv\", \"w\", encoding=\"utf-8\") as file:\n",
    "    file.write(data)\n",
    "\n",
    "print(\"✅ movies.csv file created successfully!\")\n"
   ]
  },
  {
   "cell_type": "code",
   "execution_count": 13,
   "id": "095bdf26-6f97-409b-8f5c-c640b16f1b0d",
   "metadata": {},
   "outputs": [
    {
     "name": "stdout",
     "output_type": "stream",
     "text": [
      "Requirement already satisfied: pandas in c:\\users\\hp\\appdata\\local\\programs\\python\\python310\\lib\\site-packages (2.3.1)\n",
      "Requirement already satisfied: scikit-learn in c:\\users\\hp\\appdata\\local\\programs\\python\\python310\\lib\\site-packages (1.7.1)\n",
      "Requirement already satisfied: numpy>=1.22.4 in c:\\users\\hp\\appdata\\local\\programs\\python\\python310\\lib\\site-packages (from pandas) (1.26.2)\n",
      "Requirement already satisfied: python-dateutil>=2.8.2 in c:\\users\\hp\\appdata\\local\\programs\\python\\python310\\lib\\site-packages (from pandas) (2.9.0.post0)\n",
      "Requirement already satisfied: pytz>=2020.1 in c:\\users\\hp\\appdata\\local\\programs\\python\\python310\\lib\\site-packages (from pandas) (2025.2)\n",
      "Requirement already satisfied: tzdata>=2022.7 in c:\\users\\hp\\appdata\\local\\programs\\python\\python310\\lib\\site-packages (from pandas) (2025.2)\n",
      "Requirement already satisfied: scipy>=1.8.0 in c:\\users\\hp\\appdata\\local\\programs\\python\\python310\\lib\\site-packages (from scikit-learn) (1.11.4)\n",
      "Requirement already satisfied: joblib>=1.2.0 in c:\\users\\hp\\appdata\\local\\programs\\python\\python310\\lib\\site-packages (from scikit-learn) (1.5.1)\n",
      "Requirement already satisfied: threadpoolctl>=3.1.0 in c:\\users\\hp\\appdata\\local\\programs\\python\\python310\\lib\\site-packages (from scikit-learn) (3.6.0)\n",
      "Requirement already satisfied: six>=1.5 in c:\\users\\hp\\appdata\\local\\programs\\python\\python310\\lib\\site-packages (from python-dateutil>=2.8.2->pandas) (1.17.0)\n"
     ]
    }
   ],
   "source": [
    "!pip install pandas scikit-learn\n"
   ]
  },
  {
   "cell_type": "code",
   "execution_count": 14,
   "id": "b1090a27-e992-481c-936e-69d3081da8fe",
   "metadata": {},
   "outputs": [
    {
     "data": {
      "text/html": [
       "<div>\n",
       "<style scoped>\n",
       "    .dataframe tbody tr th:only-of-type {\n",
       "        vertical-align: middle;\n",
       "    }\n",
       "\n",
       "    .dataframe tbody tr th {\n",
       "        vertical-align: top;\n",
       "    }\n",
       "\n",
       "    .dataframe thead th {\n",
       "        text-align: right;\n",
       "    }\n",
       "</style>\n",
       "<table border=\"1\" class=\"dataframe\">\n",
       "  <thead>\n",
       "    <tr style=\"text-align: right;\">\n",
       "      <th></th>\n",
       "      <th>title</th>\n",
       "      <th>combined_features</th>\n",
       "    </tr>\n",
       "  </thead>\n",
       "  <tbody>\n",
       "    <tr>\n",
       "      <th>0</th>\n",
       "      <td>Avatar</td>\n",
       "      <td>Action Adventure Fantasy A marine on an alien ...</td>\n",
       "    </tr>\n",
       "    <tr>\n",
       "      <th>1</th>\n",
       "      <td>Titanic</td>\n",
       "      <td>Drama Romance A seventeen-year-old aristocrat ...</td>\n",
       "    </tr>\n",
       "    <tr>\n",
       "      <th>2</th>\n",
       "      <td>The Avengers</td>\n",
       "      <td>Action Science Fiction Earth's mightiest heroe...</td>\n",
       "    </tr>\n",
       "    <tr>\n",
       "      <th>3</th>\n",
       "      <td>Interstellar</td>\n",
       "      <td>Adventure Drama Science Fiction A team of expl...</td>\n",
       "    </tr>\n",
       "    <tr>\n",
       "      <th>4</th>\n",
       "      <td>Inception</td>\n",
       "      <td>Action Adventure Science Fiction A thief who s...</td>\n",
       "    </tr>\n",
       "  </tbody>\n",
       "</table>\n",
       "</div>"
      ],
      "text/plain": [
       "          title                                  combined_features\n",
       "0        Avatar  Action Adventure Fantasy A marine on an alien ...\n",
       "1       Titanic  Drama Romance A seventeen-year-old aristocrat ...\n",
       "2  The Avengers  Action Science Fiction Earth's mightiest heroe...\n",
       "3  Interstellar  Adventure Drama Science Fiction A team of expl...\n",
       "4     Inception  Action Adventure Science Fiction A thief who s..."
      ]
     },
     "execution_count": 14,
     "metadata": {},
     "output_type": "execute_result"
    }
   ],
   "source": [
    "# Step 4: Fill missing values (just in case)\n",
    "df['genres'] = df['genres'].fillna('')\n",
    "df['overview'] = df['overview'].fillna('')\n",
    "\n",
    "# Step 5: Combine genres and overview into one column\n",
    "df['combined_features'] = df['genres'] + ' ' + df['overview']\n",
    "\n",
    "# Step 6: Check the combined feature\n",
    "df[['title', 'combined_features']].head()\n"
   ]
  },
  {
   "cell_type": "code",
   "execution_count": 15,
   "id": "ef1f2c8f-a978-4340-8c7a-8d5dd27132a6",
   "metadata": {},
   "outputs": [
    {
     "name": "stdout",
     "output_type": "stream",
     "text": [
      "Vector shape: (10, 128)\n"
     ]
    }
   ],
   "source": [
    "# Step 7: Convert text to vectors using CountVectorizer\n",
    "cv = CountVectorizer()\n",
    "vectors = cv.fit_transform(df['combined_features'])\n",
    "\n",
    "# Optional: Show vector shape (rows, unique words)\n",
    "print(\"Vector shape:\", vectors.shape)\n",
    "\n"
   ]
  },
  {
   "cell_type": "code",
   "execution_count": 16,
   "id": "1639cd65-8314-4f90-b7d8-4bba7eac9f9c",
   "metadata": {},
   "outputs": [
    {
     "name": "stdout",
     "output_type": "stream",
     "text": [
      "[1.         0.04472136 0.05       0.08728716 0.21821789 0.14142136\n",
      " 0.04264014 0.13416408 0.35777088 0.12792043]\n"
     ]
    }
   ],
   "source": [
    "#Calculate cosine similarity between all movie vectors\n",
    "similarity = cosine_similarity(vectors)\n",
    "# Optional: Show similarity of first movie with all others\n",
    "print(similarity[0]) # Similarity of \"Avatar\" with other movies"
   ]
  },
  {
   "cell_type": "code",
   "execution_count": 18,
   "id": "46aed661-f774-4f05-abe9-76382f84c9d0",
   "metadata": {},
   "outputs": [],
   "source": [
    "# Step 9: Recommendation function\n",
    "def recommend(movie_name):\n",
    "    movie_name = movie_name.lower()  # lowercase for matching\n",
    "    found = False\n",
    "    \n",
    "    for i in range(len(df)):\n",
    "        if df.iloc[i]['title'].lower() == movie_name:\n",
    "            found = True\n",
    "            index = i\n",
    "            break\n",
    "            \n",
    "    if not found:\n",
    "        print(\"❌ Movie not found in database!\")\n",
    "        return\n",
    "    \n",
    "    # Get similarity scores\n",
    "    sim_scores = list(enumerate(similarity[index]))\n",
    "    \n",
    "    # Sort based on similarity score (descending)\n",
    "    sim_scores = sorted(sim_scores, key=lambda x: x[1], reverse=True)\n",
    "    \n",
    "    # Skip the first one (it's the same movie), show next 5\n",
    "    print(f\"\\n🎬 Because you watched '{df.iloc[index]['title']}', you may also like:\")\n",
    "    for i in sim_scores[1:6]:\n",
    "        print(\"👉\", df.iloc[i[0]]['title'])\n"
   ]
  },
  {
   "cell_type": "code",
   "execution_count": 19,
   "id": "08023857-45b8-46aa-8340-9015aaf53606",
   "metadata": {
    "scrolled": true
   },
   "outputs": [
    {
     "name": "stdout",
     "output_type": "stream",
     "text": [
      "\n",
      "🎬 Because you watched 'Avatar', you may also like:\n",
      "👉 The Martian\n",
      "👉 Inception\n",
      "👉 The Dark Knight\n",
      "👉 Avengers: Age of Ultron\n",
      "👉 Gravity\n"
     ]
    }
   ],
   "source": [
    "#recommend(\"Avatar\")\n"
   ]
  },
  {
   "cell_type": "code",
   "execution_count": 20,
   "id": "3def3f56-558a-446f-9d96-98960560de8f",
   "metadata": {},
   "outputs": [
    {
     "name": "stdin",
     "output_type": "stream",
     "text": [
      "🎥 Enter a movie name:  hum tum\n"
     ]
    },
    {
     "name": "stdout",
     "output_type": "stream",
     "text": [
      "❌ Movie not found in database!\n"
     ]
    }
   ],
   "source": [
    "# Ask user for movie name and recommend\n",
    "user_movie = input(\"🎥 Enter a movie name: \")\n",
    "recommend(user_movie)\n"
   ]
  },
  {
   "cell_type": "code",
   "execution_count": null,
   "id": "b25f2e3e-bf36-4654-9b5b-ee5516cba4aa",
   "metadata": {},
   "outputs": [],
   "source": []
  }
 ],
 "metadata": {
  "kernelspec": {
   "display_name": "Python 3 (ipykernel)",
   "language": "python",
   "name": "python3"
  },
  "language_info": {
   "codemirror_mode": {
    "name": "ipython",
    "version": 3
   },
   "file_extension": ".py",
   "mimetype": "text/x-python",
   "name": "python",
   "nbconvert_exporter": "python",
   "pygments_lexer": "ipython3",
   "version": "3.10.5"
  }
 },
 "nbformat": 4,
 "nbformat_minor": 5
}
